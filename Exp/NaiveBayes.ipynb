{
  "nbformat": 4,
  "nbformat_minor": 0,
  "metadata": {
    "colab": {
      "provenance": [],
      "authorship_tag": "ABX9TyO1zn9yB1gY6f3YxlnrRXBK",
      "include_colab_link": true
    },
    "kernelspec": {
      "name": "python3",
      "display_name": "Python 3"
    },
    "language_info": {
      "name": "python"
    }
  },
  "cells": [
    {
      "cell_type": "markdown",
      "metadata": {
        "id": "view-in-github",
        "colab_type": "text"
      },
      "source": [
        "<a href=\"https://colab.research.google.com/github/51stDimension/AIML/blob/main/Experiments/NaiveBayes.ipynb\" target=\"_parent\"><img src=\"https://colab.research.google.com/assets/colab-badge.svg\" alt=\"Open In Colab\"/></a>"
      ]
    },
    {
      "cell_type": "code",
      "execution_count": 3,
      "metadata": {
        "colab": {
          "base_uri": "https://localhost:8080/"
        },
        "id": "QiyhQL2S9cai",
        "outputId": "e098e522-05c9-4c1b-effc-f76fa9b10b63"
      },
      "outputs": [
        {
          "output_type": "stream",
          "name": "stdout",
          "text": [
            "Number of mislabeled points out of a total 150 points : 37\n",
            "              precision    recall  f1-score   support\n",
            "\n",
            "           0       0.78      0.93      0.85       109\n",
            "           1       0.60      0.29      0.39        41\n",
            "\n",
            "    accuracy                           0.75       150\n",
            "   macro avg       0.69      0.61      0.62       150\n",
            "weighted avg       0.73      0.75      0.72       150\n",
            "\n"
          ]
        },
        {
          "output_type": "execute_result",
          "data": {
            "text/plain": [
              "array([[101,   8],\n",
              "       [ 29,  12]])"
            ]
          },
          "metadata": {},
          "execution_count": 3
        }
      ],
      "source": [
        "from sklearn.model_selection import train_test_split\n",
        "from sklearn.naive_bayes import GaussianNB\n",
        "from sklearn import metrics\n",
        "import pandas as pd\n",
        "df = pd.read_csv(\"https://raw.githubusercontent.com/51stDimension/AIML/main/Data/NaiveBayes.csv\",sep=',')\n",
        "x_train,x_test,y_train,y_test =train_test_split(df.iloc[:,:4],df.iloc[:,4],test_size = 0.2,random_state =0)\n",
        "gnb = GaussianNB()\n",
        "y_pred = gnb.fit(x_train, y_train).predict(x_test)\n",
        "print(\"Number of mislabeled points out of a total %d points : %d\"%(x_test.shape[0], (y_test != y_pred).sum()))\n",
        "metrics.accuracy_score(y_test,y_pred)\n",
        "print(metrics.classification_report(y_test,y_pred))\n",
        "metrics.confusion_matrix(y_test,y_pred)"
      ]
    },
    {
      "cell_type": "code",
      "source": [],
      "metadata": {
        "id": "Xe6a3FRP9kun"
      },
      "execution_count": null,
      "outputs": []
    }
  ]
}
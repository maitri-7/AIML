{
  "nbformat": 4,
  "nbformat_minor": 0,
  "metadata": {
    "colab": {
      "provenance": [],
      "authorship_tag": "ABX9TyPQ8eZ/TGxLZeOY32uqQ+jo",
      "include_colab_link": true
    },
    "kernelspec": {
      "name": "python3",
      "display_name": "Python 3"
    },
    "language_info": {
      "name": "python"
    }
  },
  "cells": [
    {
      "cell_type": "markdown",
      "metadata": {
        "id": "view-in-github",
        "colab_type": "text"
      },
      "source": [
        "<a href=\"https://colab.research.google.com/github/51stDimension/AIML/blob/main/Experiments/AIML2.ipynb\" target=\"_parent\"><img src=\"https://colab.research.google.com/assets/colab-badge.svg\" alt=\"Open In Colab\"/></a>"
      ]
    },
    {
      "cell_type": "code",
      "execution_count": 1,
      "metadata": {
        "colab": {
          "base_uri": "https://localhost:8080/"
        },
        "id": "fybS_Cto5QpO",
        "outputId": "5b4064a2-0efe-40c2-9e3c-ae2be98d57d6"
      },
      "outputs": [
        {
          "output_type": "stream",
          "name": "stdout",
          "text": [
            "Data Points:\n",
            " [['car' 'yes' 'no' 'high']\n",
            " ['car' 'yes' 'yes' 'low']\n",
            " ['bike' 'no' 'yes' 'low']\n",
            " ['car' 'yes' 'no' 'low']\n",
            " ['bike' 'yes' 'no' 'high']\n",
            " ['car' 'yes' 'no' 'high']\n",
            " ['bike' 'yes' 'no' 'high']\n",
            " ['car' 'no' 'yes' 'high']\n",
            " ['bike' 'no' 'yes' 'high']\n",
            " ['bike' 'yes' 'no' 'high']\n",
            " ['car' 'no' 'no' 'low']]\n",
            "Target values:  ['yes' 'no' 'no' 'no' 'yes' 'yes' 'yes' 'no' 'no' 'yes' 'no']\n",
            "Features:  ['vehicle', 'is_dui', 'wearing_safety', 'driving_speed', 'death_due_to_accident']\n",
            "Initial General Hypothesis:\n",
            " [['?', '?', '?', '?'], ['?', '?', '?', '?'], ['?', '?', '?', '?'], ['?', '?', '?', '?']]\n",
            "Initial Specific Hypothesis:\n",
            " ['car' 'yes' 'no' 'high']\n",
            "G1:\n",
            "[['?', '?', '?', '?'], ['?', '?', '?', '?'], ['?', '?', '?', '?'], ['?', '?', '?', '?']]\n",
            "S1:\n",
            "['car' 'yes' 'no' 'high']\n",
            "G2:\n",
            "[['?', '?', '?', '?'], ['?', '?', '?', '?'], ['?', '?', 'no', '?'], ['?', '?', '?', 'high']]\n",
            "S2:\n",
            "['car' 'yes' 'no' 'high']\n",
            "G3:\n",
            "[['car', '?', '?', '?'], ['?', 'yes', '?', '?'], ['?', '?', 'no', '?'], ['?', '?', '?', 'high']]\n",
            "S3:\n",
            "['car' 'yes' 'no' 'high']\n",
            "G4:\n",
            "[['?', '?', '?', '?'], ['?', '?', '?', '?'], ['?', '?', '?', '?'], ['?', '?', '?', 'high']]\n",
            "S4:\n",
            "['car' 'yes' 'no' 'high']\n",
            "G5:\n",
            "[['?', '?', '?', '?'], ['?', '?', '?', '?'], ['?', '?', '?', '?'], ['?', '?', '?', 'high']]\n",
            "S5:\n",
            "['?' 'yes' 'no' 'high']\n",
            "G6:\n",
            "[['?', '?', '?', '?'], ['?', '?', '?', '?'], ['?', '?', '?', '?'], ['?', '?', '?', 'high']]\n",
            "S6:\n",
            "['?' 'yes' 'no' 'high']\n",
            "G7:\n",
            "[['?', '?', '?', '?'], ['?', '?', '?', '?'], ['?', '?', '?', '?'], ['?', '?', '?', 'high']]\n",
            "S7:\n",
            "['?' 'yes' 'no' 'high']\n",
            "G8:\n",
            "[['?', '?', '?', '?'], ['?', 'yes', '?', '?'], ['?', '?', 'no', '?'], ['?', '?', '?', '?']]\n",
            "S8:\n",
            "['?' 'yes' 'no' 'high']\n",
            "G9:\n",
            "[['?', '?', '?', '?'], ['?', 'yes', '?', '?'], ['?', '?', 'no', '?'], ['?', '?', '?', '?']]\n",
            "S9:\n",
            "['?' 'yes' 'no' 'high']\n",
            "G10:\n",
            "[['?', '?', '?', '?'], ['?', 'yes', '?', '?'], ['?', '?', 'no', '?'], ['?', '?', '?', '?']]\n",
            "S10:\n",
            "['?' 'yes' 'no' 'high']\n",
            "G11:\n",
            "[['?', '?', '?', '?'], ['?', 'yes', '?', '?'], ['?', '?', '?', '?'], ['?', '?', '?', 'high']]\n",
            "S11:\n",
            "['?' 'yes' 'no' 'high']\n",
            "General Hypothesis:  [['?', 'yes', '?', '?'], ['?', '?', '?', 'high']]\n",
            "Specific Hypothesis:  ['?' 'yes' 'no' 'high']\n"
          ]
        }
      ],
      "source": [
        "import pandas as pd \n",
        "import numpy as np \n",
        "#to read the data in the csv file (uploaded the dataset to pastebin for faster retrieval) \n",
        "data = pd.read_csv(\"https://raw.githubusercontent.com/51stDimension/AIML/main/Data/EXP2.csv\") \n",
        "d = np.array(data)[:,:-1] \n",
        "print(\"Data Points:\\n\", d) \n",
        "target = np.array(data)[:,-1] \n",
        "print(\"Target values: \",target) \n",
        "def fit(x, y, debug=False): \n",
        "  sh = x[0].copy() # Specific Hypothesis \n",
        "  gh = [[\"?\" for i in range(len(sh))] for i in range(len(sh))] # General Hypothesis \n",
        "  if debug: \n",
        "    print(\"Initial General Hypothesis:\\n\", gh) \n",
        "    print(\"Initial Specific Hypothesis:\\n\", sh) \n",
        "  for i, h in enumerate(x): \n",
        "    if target[i] == \"yes\": \n",
        "      for j in range(len(sh)): \n",
        "        if h[j] != sh[j]: \n",
        "          sh[j] = '?' \n",
        "          gh[j][j] = '?' \n",
        "    else: \n",
        "      for j in range(len(sh)): \n",
        "        if h[j] != sh[j]: \n",
        "          gh[j][j] = sh[j] \n",
        "        else: \n",
        "          gh[j][j] = \"?\" \n",
        "    print(f\"G{i+1}:\\n{gh}\") \n",
        "    print(f\"S{i+1}:\\n{sh}\") \n",
        "  gh = list(filter(lambda x: False if x == ['?' for i in range(len(gh[0]))] else True, gh)) \n",
        "  return (gh, sh) \n",
        "print(\"Features: \", list(data.columns))\n",
        "gh, sh = fit(d, target, debug=True) \n",
        "print(\"General Hypothesis: \", gh) \n",
        "print(\"Specific Hypothesis: \", sh) "
      ]
    },
    {
      "cell_type": "code",
      "source": [],
      "metadata": {
        "id": "zq3RjAP55_q8"
      },
      "execution_count": null,
      "outputs": []
    }
  ]
}

{
  "nbformat": 4,
  "nbformat_minor": 0,
  "metadata": {
    "colab": {
      "provenance": [],
      "authorship_tag": "ABX9TyNjyqbzYnKIYIdkCtJ98OQ5",
      "include_colab_link": true
    },
    "kernelspec": {
      "name": "python3",
      "display_name": "Python 3"
    },
    "language_info": {
      "name": "python"
    }
  },
  "cells": [
    {
      "cell_type": "markdown",
      "metadata": {
        "id": "view-in-github",
        "colab_type": "text"
      },
      "source": [
        "<a href=\"https://colab.research.google.com/github/51stDimension/AIML/blob/main/Experiments/BackPropagation.ipynb\" target=\"_parent\"><img src=\"https://colab.research.google.com/assets/colab-badge.svg\" alt=\"Open In Colab\"/></a>"
      ]
    },
    {
      "cell_type": "code",
      "execution_count": 1,
      "metadata": {
        "colab": {
          "base_uri": "https://localhost:8080/"
        },
        "id": "Ch0GCVuAFNGu",
        "outputId": "3ebde0bd-90b7-4ae4-977b-9766c2fb784e"
      },
      "outputs": [
        {
          "output_type": "stream",
          "name": "stdout",
          "text": [
            "[[0, 0, 0], [0, 0, 0], [0, 0, 0]]\n"
          ]
        }
      ],
      "source": [
        "import math\n",
        "# v01 v02\n",
        "# v11 v12\n",
        "# v21 v22\n",
        "\n",
        "# w0 w1 w2\n",
        "\n",
        "rows, cols = (3, 3)\n",
        "v = [[0]*cols]*rows\n",
        "print(v)"
      ]
    },
    {
      "cell_type": "code",
      "source": [
        "v = [[0,0.3,0.5],[0,0.6,-0.3],[0,-0.1,0.4]]\n",
        "\n",
        "deltav = [[0,0,0],[0,0,0],[0,0,0]]\n",
        "w = [-0.2,0.4,0.1]\n",
        "  \n",
        "deltaw = [0,0,0]\n",
        "alpha = 0.25"
      ],
      "metadata": {
        "id": "kT_oM6Q5HW3n"
      },
      "execution_count": 2,
      "outputs": []
    },
    {
      "cell_type": "code",
      "source": [
        "v"
      ],
      "metadata": {
        "colab": {
          "base_uri": "https://localhost:8080/"
        },
        "id": "JEr6NIG8H7kw",
        "outputId": "34cea84f-fcf3-4173-f2fe-e370297873b0"
      },
      "execution_count": 3,
      "outputs": [
        {
          "output_type": "execute_result",
          "data": {
            "text/plain": [
              "[[0, 0.3, 0.5], [0, 0.6, -0.3], [0, -0.1, 0.4]]"
            ]
          },
          "metadata": {},
          "execution_count": 3
        }
      ]
    },
    {
      "cell_type": "code",
      "source": [
        "def activationFunction(x):\n",
        "  ans = (1 - math.exp(-x))/(1 + math.exp(-x))\n",
        "  return ans\n",
        "\n",
        "def derivativeActivationFunction(x):\n",
        "  ans = (0.5*(1+x)*(1-x))\n",
        "  return ans"
      ],
      "metadata": {
        "id": "TfUfoW0PH8WF"
      },
      "execution_count": 4,
      "outputs": []
    },
    {
      "cell_type": "code",
      "source": [
        "activationFunction(-0.22526)"
      ],
      "metadata": {
        "colab": {
          "base_uri": "https://localhost:8080/"
        },
        "id": "2b34nk3eIqLE",
        "outputId": "94cb97c2-aa98-4b2d-f17f-2ae5d29f0e2d"
      },
      "execution_count": 5,
      "outputs": [
        {
          "output_type": "execute_result",
          "data": {
            "text/plain": [
              "-0.11215614768994976"
            ]
          },
          "metadata": {},
          "execution_count": 5
        }
      ]
    },
    {
      "cell_type": "code",
      "source": [
        "x = [0,-1,1]\n",
        "target = 1"
      ],
      "metadata": {
        "id": "DCxumYUMItGb"
      },
      "execution_count": 6,
      "outputs": []
    },
    {
      "cell_type": "code",
      "source": [
        "epoch = 1\n",
        "data = []\n",
        "while epoch<1000:\n",
        "  zin1 = v[0][1] + (x[1]*v[1][1]) + (x[2]*v[2][1])\n",
        "  zin2 = v[0][2] + (x[1]*v[1][2]) + (x[2]*v[2][2])\n",
        "  z1   = activationFunction(zin1)\n",
        "  z2   = activationFunction(zin2) \n",
        "  yin  = w[0] + z1*w[1] + z2*w[2]\n",
        "  y    = activationFunction(yin)\n",
        "  errorPortionK1 = (target - y)*derivativeActivationFunction(y)\n",
        "\n",
        "  # Calculate changes in weight w0,w1,w2\n",
        "  deltaw[1] = alpha*errorPortionK1*z1\n",
        "  deltaw[2] = alpha*errorPortionK1*z2\n",
        "  deltaw[0] = alpha*errorPortionK1\n",
        "\n",
        "  # calculate error portion between input and hidden layer\n",
        "  errorIn1 = errorPortionK1*w[1]\n",
        "  errorIn2 = errorPortionK1*w[2]\n",
        "\n",
        "  e1 = errorIn1*derivativeActivationFunction(z1)\n",
        "  e2 = errorIn2*derivativeActivationFunction(z2)\n",
        "\n",
        "  # Calculate weight changes\n",
        "  deltav[1][1] = alpha*e1*x[1]\n",
        "  deltav[2][1] = alpha*e1*x[2]\n",
        "  deltav[0][1] = alpha*e1\n",
        "  deltav[1][2] = alpha*e2*x[1]\n",
        "  deltav[2][2] = alpha*e2*x[2]\n",
        "  deltav[0][2] = alpha*e2\n",
        "\n",
        "  # Update data\n",
        "  for i in range(0,3):\n",
        "    for j in range(0,3):\n",
        "      v[i][j] += deltav[i][j]\n",
        "\n",
        "  for k in range(0,3):\n",
        "    w[k] += deltaw[k]\n",
        "\n",
        "  data.append([epoch,e1,e2])\n",
        "  epoch = epoch+1"
      ],
      "metadata": {
        "id": "YmEIOvcGJfHB"
      },
      "execution_count": 7,
      "outputs": []
    },
    {
      "cell_type": "code",
      "source": [
        "  print('Value after all 1000 epochs: ')\n",
        "  print('Error Values: ',e1,e2)\n",
        "  print('v11',v[1][1])\n",
        "  print('v12',v[1][2])\n",
        "  print('v21',v[2][1])\n",
        "  print('v21',v[2][1])\n",
        "  print('v01',v[0][1])\n",
        "  print('v02',v[0][2])\n",
        "  print('w0',w[0])\n",
        "  print('w1',w[1])\n",
        "  print('w2',w[2])"
      ],
      "metadata": {
        "colab": {
          "base_uri": "https://localhost:8080/"
        },
        "id": "y-ryFXq-0jeW",
        "outputId": "1bccac14-6c23-4254-bfc6-f7c62b2ff844"
      },
      "execution_count": 8,
      "outputs": [
        {
          "output_type": "stream",
          "name": "stdout",
          "text": [
            "Value after all 1000 epochs: \n",
            "Error Values:  0.0002561661010491176 0.00022544657255762747\n",
            "v11 0.1278345360119072\n",
            "v12 -0.7599076117545077\n",
            "v21 0.3721654639880931\n",
            "v21 0.3721654639880931\n",
            "v01 0.7721654639880926\n",
            "v02 0.9599076117545076\n",
            "w0 2.276340819568257\n",
            "w1 0.6876055822168512\n",
            "w2 1.8026464004249287\n"
          ]
        }
      ]
    },
    {
      "cell_type": "code",
      "source": [
        "import pandas as pd\n",
        "import seaborn as sns\n",
        "df = pd.DataFrame(data, columns=['Epoch', 'e1', 'e2'])"
      ],
      "metadata": {
        "id": "W9B5H8YfJ6tZ"
      },
      "execution_count": 9,
      "outputs": []
    },
    {
      "cell_type": "code",
      "source": [
        "df\n",
        "sns.relplot(data=df, x=\"Epoch\", y=\"e1\", kind=\"line\")"
      ],
      "metadata": {
        "id": "xsYiSYeRKMH4",
        "colab": {
          "base_uri": "https://localhost:8080/",
          "height": 386
        },
        "outputId": "554e1641-1f55-48b9-ccf2-2eff1ce1d650"
      },
      "execution_count": 10,
      "outputs": [
        {
          "output_type": "execute_result",
          "data": {
            "text/plain": [
              "<seaborn.axisgrid.FacetGrid at 0x7efd64fa8bd0>"
            ]
          },
          "metadata": {},
          "execution_count": 10
        },
        {
          "output_type": "display_data",
          "data": {
            "text/plain": [
              "<Figure size 360x360 with 1 Axes>"
            ],
            "image/png": "[encoded data removed]"
          },
          "metadata": {
            "needs_background": "light"
          }
        }
      ]
    },
    {
      "cell_type": "code",
      "source": [
        "sns.relplot(data=df, x=\"Epoch\", y=\"e2\", kind=\"line\")"
      ],
      "metadata": {
        "colab": {
          "base_uri": "https://localhost:8080/",
          "height": 386
        },
        "id": "kqdf59Es_1Da",
        "outputId": "b7596798-8398-4cad-81c1-54c0a215246a"
      },
      "execution_count": 11,
      "outputs": [
        {
          "output_type": "execute_result",
          "data": {
            "text/plain": [
              "<seaborn.axisgrid.FacetGrid at 0x7efd4b9b02d0>"
            ]
          },
          "metadata": {},
          "execution_count": 11
        },
        {
          "output_type": "display_data",
          "data": {
            "text/plain": [
              "<Figure size 360x360 with 1 Axes>"
            ],
            "image/png": "[encoded data removed]"
          },
          "metadata": {
            "needs_background": "light"
          }
        }
      ]
    },
    {
      "cell_type": "code",
      "source": [],
      "metadata": {
        "id": "NmZtA7HWAZ0-"
      },
      "execution_count": null,
      "outputs": []
    }
  ]
}
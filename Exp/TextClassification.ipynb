{
  "nbformat": 4,
  "nbformat_minor": 0,
  "metadata": {
    "colab": {
      "provenance": [],
      "authorship_tag": "ABX9TyNAI2kKDTVqQ0QBIyJG7119",
      "include_colab_link": true
    },
    "kernelspec": {
      "name": "python3",
      "display_name": "Python 3"
    },
    "language_info": {
      "name": "python"
    }
  },
  "cells": [
    {
      "cell_type": "markdown",
      "metadata": {
        "id": "view-in-github",
        "colab_type": "text"
      },
      "source": [
        "<a href=\"https://colab.research.google.com/github/51stDimension/AIML/blob/main/Experiments/TextClassification.ipynb\" target=\"_parent\"><img src=\"https://colab.research.google.com/assets/colab-badge.svg\" alt=\"Open In Colab\"/></a>"
      ]
    },
    {
      "cell_type": "code",
      "source": [
        "from sklearn.model_selection import train_test_split\n",
        "from sklearn.naive_bayes import GaussianNB\n",
        "from sklearn import metrics\n",
        "import pandas as pd\n",
        "import re\n",
        "import numpy as np\n",
        "import math"
      ],
      "metadata": {
        "id": "9a4VNzThC8e2"
      },
      "execution_count": 8,
      "outputs": []
    },
    {
      "cell_type": "code",
      "execution_count": 9,
      "metadata": {
        "id": "1gFADGPUBmc_"
      },
      "outputs": [],
      "source": [
        "def labelPredictions(Y):\n",
        "    labels = {}\n",
        "    total = len(Y)\n",
        "    \n",
        "    for label in Y:            \n",
        "        if label in labels:\n",
        "            labels[label] += 1\n",
        "        else:\n",
        "            labels[label] = 1\n",
        "    for i in labels:\n",
        "        val = labels[i]\n",
        "        labels[i] = val / total;\n",
        "\n",
        "    return labels\n",
        "\n",
        "def split_words(sentence):\n",
        "    words = re.sub(\"[^\\w]\", \" \",  sentence).split()\n",
        "    words = list(map(lambda x:x.lower(),words))\n",
        "    return words\n",
        "\n",
        "def split_words_unique(sentence):\n",
        "    words = split_words(sentence)\n",
        "    _words = {}\n",
        "    for w in words:\n",
        "        if w not in _words:\n",
        "            _words[w] = 1\n",
        "        else:\n",
        "            _words[w] += 1\n",
        "    return _words\n",
        "\n",
        "def calculateVocabulary(X):\n",
        "    amount = 0\n",
        "    stack = []\n",
        "\n",
        "    for sentence in X:\n",
        "        words = split_words(sentence)\n",
        "        \n",
        "\n",
        "        for w in words:\n",
        "            if w not in stack:\n",
        "                stack.append(w)\n",
        "                amount += 1\n",
        "\n",
        "    return amount\n",
        "\n",
        "def determineWordsCount(X):\n",
        "    count = 0\n",
        "\n",
        "    for sentence in X:\n",
        "        words = split_words(sentence)\n",
        "\n",
        "        for w in words:\n",
        "            count += 1\n",
        "\n",
        "    return count\n",
        "\n",
        "def getWordCountInClass(payload,word,c):\n",
        "    df = dataFrameForClass(payload,c)\n",
        "\n",
        "    sentences = df[payload['f_text']]\n",
        "\n",
        "    count = 0\n",
        "\n",
        "    for sentence in sentences:\n",
        "        words = split_words(sentence)\n",
        "\n",
        "        for w in words:\n",
        "            if w == word:\n",
        "                count += 1\n",
        "\n",
        "    return count\n",
        "\n",
        "def dataFrameForClass(payload,c):\n",
        "    return payload['X'].loc[payload['X'][payload['f_label']] == c]\n",
        "\n",
        "def getWordsCount(payload,c):\n",
        "    df = dataFrameForClass(payload,c)\n",
        "\n",
        "    return determineWordsCount(df[payload['f_text']])\n",
        "\n",
        "def fit(X,Y,f_text = 'text',f_label = 'label'):\n",
        "\n",
        "    payload = {};\n",
        "    \n",
        "    payload['classes'] = set(Y)\n",
        "    payload['predictions'] = labelPredictions(Y)\n",
        "    payload['vocabulary'] = calculateVocabulary(X[f_text])\n",
        "    payload['X'] = X\n",
        "    payload['Y'] = Y\n",
        "    payload['f_text'] = f_text\n",
        "    payload['f_label'] = f_label\n",
        "\n",
        "    return payload\n",
        "\n",
        "def predict(payload,text):\n",
        "    words = split_words_unique(text)\n",
        "    m_estimate = {}\n",
        "    for c in payload['classes']:\n",
        "        n = getWordsCount(payload,c)\n",
        "\n",
        "        m_estimate[c] = {}\n",
        "\n",
        "        for word in words:\n",
        "            force = words[word]\n",
        "\n",
        "            n_c = getWordCountInClass(payload,word,c)\n",
        "\n",
        "            _estimate = (n_c + 1) / (n + payload['vocabulary'])\n",
        "            \n",
        "            _estimate = math.pow(_estimate,force)\n",
        "\n",
        "            m_estimate[c][word] = _estimate\n",
        "\n",
        "    tags = {}\n",
        "    \n",
        "    for c in payload['predictions']:\n",
        "        p = payload['predictions'][c]\n",
        "\n",
        "        m = np.prod(list(m_estimate[c].values()))\n",
        "\n",
        "        final = m * p\n",
        "\n",
        "        tags[c] = final\n",
        "\n",
        "        \n",
        "    return max(tags,key= lambda x: tags[x])"
      ]
    },
    {
      "cell_type": "code",
      "source": [
        "df = pd.read_csv('https://raw.githubusercontent.com/51stDimension/AIML/main/Data/TextClassification.csv')\n",
        "df.head()"
      ],
      "metadata": {
        "colab": {
          "base_uri": "https://localhost:8080/",
          "height": 206
        },
        "id": "95QVKMjtCubO",
        "outputId": "feedf79b-af74-4646-a380-91f83cfb1099"
      },
      "execution_count": 10,
      "outputs": [
        {
          "output_type": "execute_result",
          "data": {
            "text/plain": [
              "  label                                               text\n",
              "0   ham  Go until jurong point, crazy.. Available only ...\n",
              "1   ham                      Ok lar... Joking wif u oni...\n",
              "2  spam  Free entry in 2 a wkly comp to win FA Cup fina...\n",
              "3   ham  U dun say so early hor... U c already then say...\n",
              "4   ham  Nah I don't think he goes to usf, he lives aro..."
            ],
            "text/html": [
              "\n",
              "  <div id=\"df-689498dc-dfa4-4543-99b1-a92104fbb14a\">\n",
              "    <div class=\"colab-df-container\">\n",
              "      <div>\n",
              "<style scoped>\n",
              "    .dataframe tbody tr th:only-of-type {\n",
              "        vertical-align: middle;\n",
              "    }\n",
              "\n",
              "    .dataframe tbody tr th {\n",
              "        vertical-align: top;\n",
              "    }\n",
              "\n",
              "    .dataframe thead th {\n",
              "        text-align: right;\n",
              "    }\n",
              "</style>\n",
              "<table border=\"1\" class=\"dataframe\">\n",
              "  <thead>\n",
              "    <tr style=\"text-align: right;\">\n",
              "      <th></th>\n",
              "      <th>label</th>\n",
              "      <th>text</th>\n",
              "    </tr>\n",
              "  </thead>\n",
              "  <tbody>\n",
              "    <tr>\n",
              "      <th>0</th>\n",
              "      <td>ham</td>\n",
              "      <td>Go until jurong point, crazy.. Available only ...</td>\n",
              "    </tr>\n",
              "    <tr>\n",
              "      <th>1</th>\n",
              "      <td>ham</td>\n",
              "      <td>Ok lar... Joking wif u oni...</td>\n",
              "    </tr>\n",
              "    <tr>\n",
              "      <th>2</th>\n",
              "      <td>spam</td>\n",
              "      <td>Free entry in 2 a wkly comp to win FA Cup fina...</td>\n",
              "    </tr>\n",
              "    <tr>\n",
              "      <th>3</th>\n",
              "      <td>ham</td>\n",
              "      <td>U dun say so early hor... U c already then say...</td>\n",
              "    </tr>\n",
              "    <tr>\n",
              "      <th>4</th>\n",
              "      <td>ham</td>\n",
              "      <td>Nah I don't think he goes to usf, he lives aro...</td>\n",
              "    </tr>\n",
              "  </tbody>\n",
              "</table>\n",
              "</div>\n",
              "      <button class=\"colab-df-convert\" onclick=\"convertToInteractive('df-689498dc-dfa4-4543-99b1-a92104fbb14a')\"\n",
              "              title=\"Convert this dataframe to an interactive table.\"\n",
              "              style=\"display:none;\">\n",
              "        \n",
              "  <svg xmlns=\"http://www.w3.org/2000/svg\" height=\"24px\"viewBox=\"0 0 24 24\"\n",
              "       width=\"24px\">\n",
              "    <path d=\"M0 0h24v24H0V0z\" fill=\"none\"/>\n",
              "    <path d=\"M18.56 5.44l.94 2.06.94-2.06 2.06-.94-2.06-.94-.94-2.06-.94 2.06-2.06.94zm-11 1L8.5 8.5l.94-2.06 2.06-.94-2.06-.94L8.5 2.5l-.94 2.06-2.06.94zm10 10l.94 2.06.94-2.06 2.06-.94-2.06-.94-.94-2.06-.94 2.06-2.06.94z\"/><path d=\"M17.41 7.96l-1.37-1.37c-.4-.4-.92-.59-1.43-.59-.52 0-1.04.2-1.43.59L10.3 9.45l-7.72 7.72c-.78.78-.78 2.05 0 2.83L4 21.41c.39.39.9.59 1.41.59.51 0 1.02-.2 1.41-.59l7.78-7.78 2.81-2.81c.8-.78.8-2.07 0-2.86zM5.41 20L4 18.59l7.72-7.72 1.47 1.35L5.41 20z\"/>\n",
              "  </svg>\n",
              "      </button>\n",
              "      \n",
              "  <style>\n",
              "    .colab-df-container {\n",
              "      display:flex;\n",
              "      flex-wrap:wrap;\n",
              "      gap: 12px;\n",
              "    }\n",
              "\n",
              "    .colab-df-convert {\n",
              "      background-color: #E8F0FE;\n",
              "      border: none;\n",
              "      border-radius: 50%;\n",
              "      cursor: pointer;\n",
              "      display: none;\n",
              "      fill: #1967D2;\n",
              "      height: 32px;\n",
              "      padding: 0 0 0 0;\n",
              "      width: 32px;\n",
              "    }\n",
              "\n",
              "    .colab-df-convert:hover {\n",
              "      background-color: #E2EBFA;\n",
              "      box-shadow: 0px 1px 2px rgba(60, 64, 67, 0.3), 0px 1px 3px 1px rgba(60, 64, 67, 0.15);\n",
              "      fill: #174EA6;\n",
              "    }\n",
              "\n",
              "    [theme=dark] .colab-df-convert {\n",
              "      background-color: #3B4455;\n",
              "      fill: #D2E3FC;\n",
              "    }\n",
              "\n",
              "    [theme=dark] .colab-df-convert:hover {\n",
              "      background-color: #434B5C;\n",
              "      box-shadow: 0px 1px 3px 1px rgba(0, 0, 0, 0.15);\n",
              "      filter: drop-shadow(0px 1px 2px rgba(0, 0, 0, 0.3));\n",
              "      fill: #FFFFFF;\n",
              "    }\n",
              "  </style>\n",
              "\n",
              "      <script>\n",
              "        const buttonEl =\n",
              "          document.querySelector('#df-689498dc-dfa4-4543-99b1-a92104fbb14a button.colab-df-convert');\n",
              "        buttonEl.style.display =\n",
              "          google.colab.kernel.accessAllowed ? 'block' : 'none';\n",
              "\n",
              "        async function convertToInteractive(key) {\n",
              "          const element = document.querySelector('#df-689498dc-dfa4-4543-99b1-a92104fbb14a');\n",
              "          const dataTable =\n",
              "            await google.colab.kernel.invokeFunction('convertToInteractive',\n",
              "                                                     [key], {});\n",
              "          if (!dataTable) return;\n",
              "\n",
              "          const docLinkHtml = 'Like what you see? Visit the ' +\n",
              "            '<a target=\"_blank\" href=https://colab.research.google.com/notebooks/data_table.ipynb>data table notebook</a>'\n",
              "            + ' to learn more about interactive tables.';\n",
              "          element.innerHTML = '';\n",
              "          dataTable['output_type'] = 'display_data';\n",
              "          await google.colab.output.renderOutput(dataTable, element);\n",
              "          const docLink = document.createElement('div');\n",
              "          docLink.innerHTML = docLinkHtml;\n",
              "          element.appendChild(docLink);\n",
              "        }\n",
              "      </script>\n",
              "    </div>\n",
              "  </div>\n",
              "  "
            ]
          },
          "metadata": {},
          "execution_count": 10
        }
      ]
    },
    {
      "cell_type": "code",
      "source": [
        "from sklearn.model_selection import train_test_split\n",
        "train, test = train_test_split(df,test_size=0.008)\n",
        "payload = fit(train,train['label'])"
      ],
      "metadata": {
        "id": "oyhcEh2kEEpp"
      },
      "execution_count": 20,
      "outputs": []
    },
    {
      "cell_type": "code",
      "source": [
        "test.shape"
      ],
      "metadata": {
        "colab": {
          "base_uri": "https://localhost:8080/"
        },
        "id": "ZZ8z0b6dEGzR",
        "outputId": "377802a4-6ba5-4386-d038-4093ae81749b"
      },
      "execution_count": 21,
      "outputs": [
        {
          "output_type": "execute_result",
          "data": {
            "text/plain": [
              "(45, 2)"
            ]
          },
          "metadata": {},
          "execution_count": 21
        }
      ]
    },
    {
      "cell_type": "code",
      "source": [
        "count=0\n",
        "train_arr =[]\n",
        "test_arr=[]\n",
        "for ind in test.index:\n",
        "  result = predict(payload,test['text'][ind])\n",
        "  train_arr.append(result)\n",
        "  test_arr.append(test['label'][ind])\n",
        "  # y_test = y_test.append({'label': test['label'][ind]}, ignore_index=True)\n",
        "  count=count+1\n",
        "  print(count,result,test['label'][ind])\n"
      ],
      "metadata": {
        "colab": {
          "base_uri": "https://localhost:8080/"
        },
        "id": "IQRRk8bQENw3",
        "outputId": "5c8b2241-4636-4355-8e8f-1a82fcc6b8e0"
      },
      "execution_count": 35,
      "outputs": [
        {
          "output_type": "stream",
          "name": "stdout",
          "text": [
            "1 ham ham\n",
            "2 ham ham\n",
            "3 ham ham\n",
            "4 spam ham\n",
            "5 ham ham\n",
            "6 ham ham\n",
            "7 ham ham\n",
            "8 ham ham\n",
            "9 ham ham\n",
            "10 ham ham\n",
            "11 ham ham\n",
            "12 ham ham\n",
            "13 spam spam\n",
            "14 ham ham\n",
            "15 ham ham\n",
            "16 ham ham\n",
            "17 spam spam\n",
            "18 ham ham\n",
            "19 spam spam\n",
            "20 spam spam\n",
            "21 ham ham\n",
            "22 ham ham\n",
            "23 ham ham\n",
            "24 ham ham\n",
            "25 ham ham\n",
            "26 ham spam\n",
            "27 ham ham\n",
            "28 ham ham\n",
            "29 spam spam\n",
            "30 ham ham\n",
            "31 ham ham\n",
            "32 ham ham\n",
            "33 spam spam\n",
            "34 ham ham\n",
            "35 ham ham\n",
            "36 ham ham\n",
            "37 spam spam\n",
            "38 ham ham\n",
            "39 ham ham\n",
            "40 ham ham\n",
            "41 spam spam\n",
            "42 ham ham\n",
            "43 ham ham\n",
            "44 ham ham\n",
            "45 ham ham\n"
          ]
        }
      ]
    },
    {
      "cell_type": "code",
      "source": [
        "y_pred = pd.DataFrame({'label':train_arr})\n",
        "y_test = pd.DataFrame({'label':test_arr})\n"
      ],
      "metadata": {
        "id": "wSft_d05ERAh"
      },
      "execution_count": 36,
      "outputs": []
    },
    {
      "cell_type": "code",
      "source": [
        "metrics.accuracy_score(y_test,y_pred)"
      ],
      "metadata": {
        "colab": {
          "base_uri": "https://localhost:8080/"
        },
        "id": "2VZnjGrFF2aR",
        "outputId": "f2cd98c8-7084-40a5-bd75-d4d48d5d28c2"
      },
      "execution_count": 37,
      "outputs": [
        {
          "output_type": "execute_result",
          "data": {
            "text/plain": [
              "0.9555555555555556"
            ]
          },
          "metadata": {},
          "execution_count": 37
        }
      ]
    },
    {
      "cell_type": "code",
      "source": [
        "print(metrics.classification_report(y_test,y_pred))"
      ],
      "metadata": {
        "colab": {
          "base_uri": "https://localhost:8080/"
        },
        "id": "stCMrJdRF4nM",
        "outputId": "6fa2e52e-9947-473e-c876-489dce158ff5"
      },
      "execution_count": 38,
      "outputs": [
        {
          "output_type": "stream",
          "name": "stdout",
          "text": [
            "              precision    recall  f1-score   support\n",
            "\n",
            "         ham       0.97      0.97      0.97        36\n",
            "        spam       0.89      0.89      0.89         9\n",
            "\n",
            "    accuracy                           0.96        45\n",
            "   macro avg       0.93      0.93      0.93        45\n",
            "weighted avg       0.96      0.96      0.96        45\n",
            "\n"
          ]
        }
      ]
    },
    {
      "cell_type": "code",
      "source": [
        "metrics.confusion_matrix(y_test,y_pred)"
      ],
      "metadata": {
        "colab": {
          "base_uri": "https://localhost:8080/"
        },
        "id": "thmmlN3WF6V-",
        "outputId": "c08129c0-1be3-41ba-cffb-3398cde4a715"
      },
      "execution_count": 39,
      "outputs": [
        {
          "output_type": "execute_result",
          "data": {
            "text/plain": [
              "array([[35,  1],\n",
              "       [ 1,  8]])"
            ]
          },
          "metadata": {},
          "execution_count": 39
        }
      ]
    },
    {
      "cell_type": "code",
      "source": [],
      "metadata": {
        "id": "ByUWCWu2GZCR"
      },
      "execution_count": null,
      "outputs": []
    }
  ]
}